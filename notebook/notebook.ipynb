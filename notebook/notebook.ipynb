{
 "cells": [
  {
   "cell_type": "markdown",
   "metadata": {},
   "source": [
    "## Where is waldo\n",
    "### Team WIW\n",
    "\n",
    "- Dries Augustijns\n",
    "- Niels Baptist\n",
    "- Miguel Haest\n",
    "\n",
    "> [Link to our Github Repo](https://github.com/driaug/where-is-waldo) \n",
    "\n",
    "### Introduction\n",
    "\n",
    "For our Artificial Intelligence project, we chose the assignment 'Where is Waldo', This is a game in which the objective is to recognize a certain recognizable figure in a busy and large image of a crowed area. <br/> In this project we will have to gather the nessecary images of Waldo, train a model to recognise the character and provide an intuitive and creative way of presenting that our method of finding Waldo works. We will provide more information about the steps we took to get there down below.\n",
    "\n",
    "### Gathering the images\n",
    "\n",
    "First things first. To train our model we need a way of it to recognize Waldo. To achieve this, we looked for a set of images that seemed fit. </br>\n",
    "We used images that only depict Waldo himself, and placed them in the folder *[images](./images)*.\n"
   ]
  },
  {
   "cell_type": "markdown",
   "metadata": {},
   "source": [
    "### 1. Is this Waldo?\n",
    "We knew that this would be a challenging project, so as adviced by Koen, we decided to start off with the basics, we wanted to be able to detect wether a given face was Waldo or not.  \n"
   ]
  },
  {
   "cell_type": "markdown",
   "metadata": {},
   "source": [
    "#### Installing OpenCV "
   ]
  },
  {
   "cell_type": "code",
   "execution_count": null,
   "metadata": {},
   "outputs": [],
   "source": [
    "import cv2"
   ]
  },
  {
   "cell_type": "markdown",
   "metadata": {},
   "source": [
    "#### "
   ]
  },
  {
   "cell_type": "code",
   "execution_count": null,
   "metadata": {},
   "outputs": [],
   "source": [
    "from keras.models import Sequential\n",
    "from keras.layers import Dense, Dropout, Flatten\n",
    "from keras.layers.convolutional import Conv2D\n",
    "from keras.preprocessing.image import ImageDataGenerator"
   ]
  }
 ],
 "metadata": {
  "language_info": {
   "name": "python"
  },
  "orig_nbformat": 4
 },
 "nbformat": 4,
 "nbformat_minor": 2
}
