{
 "cells": [
  {
   "cell_type": "markdown",
   "metadata": {},
   "source": [
    "## Where is waldo\n",
    "### Team WTFIW\n",
    "\n",
    "- Dries Augustijns\n",
    "- Niels Baptist\n",
    "- Miguel Haest\n",
    "\n",
    "> [Link to our Github Repo](https://github.com/driaug/where-is-waldo) \n",
    "\n",
    "### Introduction\n",
    "\n",
    "For our Artificial Intelligence project, we chose the assignment 'Where is Waldo', This is a game in which the objective is to recognize a certain recognizable figure in a busy and large image of a crowed area. <br/> In this project we will have to gather the nessecary images of Waldo, train a model to recognise the character and provide an intuitive and creative way of presenting that our method of finding Waldo works. We will provide more information about the steps we took to get there down below.\n",
    "\n",
    "### Gathering the images\n",
    "\n",
    "First things first. To train our model we need a way of it to recognize Waldo. To achieve this, we looked for a set of images that seemed fit. </br>\n",
    "We knew that Waldo is a popular figure and that there would be people who had already done this for us, and after looking for long enough, we found a folder of images that we could use.\n",
    "> These are the images we used: [images](https://github.com/driaug/where-is-waldo/tree/main/ml/images)\n"
   ]
  },
  {
   "cell_type": "markdown",
   "metadata": {},
   "source": [
    "### Training our model\n",
    "\n",
    "With our data gathered and ordered nicely in our repository, we could now start training our model to recognize Waldo. We knew that this part of our assignment would be the most challenging so we set out to make a no-nonsense model first and if possible improve it down the road."
   ]
  },
  {
   "cell_type": "markdown",
   "metadata": {},
   "source": [
    "### Providing a presentation\n",
    "\n",
    "Our trained model is good and all that, but it won't mean anything to the average end user if we didn't find a way to properly present our code with something intuitive and easy to understand. <br/>\n",
    "We decided on making a game inspired by the popular web-game Geoguessr. \n",
    "> The game that gave us inspiration: [Geoguessr](https://www.geoguessr.com)\n",
    "\n",
    "<br/> The objective is simple: after shown an image which both the computer and the human player have never seen, the computer will predict where Wally is and the user must find Waldo as fast as they possibly can. Then, he/she must click on the position where the user beliefs Waldo is. The user is then given a score based on 2 factors: the time it took to make his/her guess and the distance between the coordinates of the guess of the user and the actual coordinates predicted by our model. "
   ]
  },
  {
   "cell_type": "code",
   "execution_count": null,
   "metadata": {},
   "outputs": [],
   "source": []
  }
 ],
 "metadata": {
  "language_info": {
   "name": "python"
  },
  "orig_nbformat": 4
 },
 "nbformat": 4,
 "nbformat_minor": 2
}
